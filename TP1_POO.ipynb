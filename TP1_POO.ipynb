{
 "cells": [
  {
   "cell_type": "markdown",
   "id": "8a20ce7e",
   "metadata": {},
   "source": [
    "\n",
    "#  ![images-2-2.png](data:image/png;base64,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)   **Universidad de la ciudad de Buenos Aires**"
   ]
  },
  {
   "cell_type": "markdown",
   "id": "d1bca119",
   "metadata": {},
   "source": [
    "# Programación Avanzada en Python\n",
    "Curso: Programación avanzada para ciencia de datos"
   ]
  },
  {
   "cell_type": "markdown",
   "id": "b23e5848",
   "metadata": {},
   "source": [
    "## Primer Punto\n",
    "Crea una clase llamada Persona que tenga como atributos _nombre  y _edad.\n",
    "\n",
    "El constructor  debe inicializar estos atributos con los valores proporcionados. Además, crea un método llamado mostrar() que imprima por pantalla un mensaje con el nombre y la edad de la persona en el formato:\n",
    "\n",
    "Ejemplo de salida:\n",
    "\n",
    "\"Esta persona se llama {nombre}, tiene {edad} años\".\n",
    "\n",
    "Finalmente, crea cinco instancias de la clase Persona con diferentes nombres y edades del equipo, y utiliza el método mostrar() para mostrar sus datos."
   ]
  },
  {
   "cell_type": "code",
   "execution_count": 1,
   "id": "4e44b1e7",
   "metadata": {},
   "outputs": [],
   "source": [
    "class Persona:\n",
    "    def __init__(self, nombre, edad):\n",
    "        self.__nombre = nombre\n",
    "        self.__edad = edad\n",
    "\n",
    "    def mostrar(self):\n",
    "        return f\"Esta persona se llama {self.__nombre}, tiene {self.__edad} años\""
   ]
  },
  {
   "cell_type": "code",
   "execution_count": 2,
   "id": "b9bbeb0a",
   "metadata": {},
   "outputs": [
    {
     "name": "stdout",
     "output_type": "stream",
     "text": [
      "Esta persona se llama Juan, tiene 30 años\n",
      "Esta persona se llama Ana, tiene 25 años\n",
      "Esta persona se llama Luis, tiene 40 años\n",
      "Esta persona se llama Maria, tiene 35 años\n",
      "Esta persona se llama Carlos, tiene 28 años\n"
     ]
    }
   ],
   "source": [
    "persona1 = Persona(\"Juan\", 30)\n",
    "persona2 = Persona(\"Ana\", 25)\n",
    "persona3 = Persona(\"Luis\", 40)\n",
    "persona4 = Persona(\"Maria\", 35)\n",
    "persona5 = Persona(\"Carlos\", 28)\n",
    "print(persona1.mostrar())\n",
    "print(persona2.mostrar())\n",
    "print(persona3.mostrar())\n",
    "print(persona4.mostrar())\n",
    "print(persona5.mostrar())"
   ]
  },
  {
   "cell_type": "markdown",
   "id": "65202a50",
   "metadata": {},
   "source": [
    "# Segundo Punto\n",
    "\n",
    "Modifica la clase Persona para que el constructor (__init__) realice las siguientes validaciones:\n",
    "\n",
    "Si edad no es un entero, lanzar una excepción de tipo TypeError con el mensaje \"La edad debe ser un número entero\".\n",
    "Si edad es un número negativo, lanzar una excepción de tipo ValueError con el mensaje \"La edad no puede ser negativa\".\n",
    "Luego, crea al menos tres instancias de la clase Persona: una con datos válidos, una con una edad que no sea un entero y otra con una edad negativa. Maneja las posibles excepciones con bloques try-except e imprime un mensaje informativo en caso de error."
   ]
  },
  {
   "cell_type": "code",
   "execution_count": 3,
   "id": "d8e45dcc",
   "metadata": {},
   "outputs": [],
   "source": [
    "class Persona:\n",
    "    def __init__(self, nombre, edad):\n",
    "        try:\n",
    "          if type(edad) is not int:\n",
    "            raise TypeError(\"La edad debe ser un número entero\")\n",
    "          if edad < 0:\n",
    "            raise ValueError(\"La edad no puede ser negativa\")\n",
    "        except TypeError as e:\n",
    "            print(e)\n",
    "        except ValueError as e:\n",
    "            print(e)\n",
    "        else:\n",
    "          self.__nombre = nombre\n",
    "          self.__edad = edad\n",
    "\n",
    "    def mostrar(self):\n",
    "        return f\"Esta persona se llama {self.__nombre}, tiene {self.__edad} años\""
   ]
  },
  {
   "cell_type": "code",
   "execution_count": 4,
   "id": "c851be08",
   "metadata": {},
   "outputs": [
    {
     "name": "stdout",
     "output_type": "stream",
     "text": [
      "La edad debe ser un número entero\n"
     ]
    }
   ],
   "source": [
    "persona1 = Persona(\"Juan\", \"30\")  # Esto lanzará TypeError"
   ]
  },
  {
   "cell_type": "code",
   "execution_count": 5,
   "id": "2c3e8fa0",
   "metadata": {},
   "outputs": [
    {
     "name": "stdout",
     "output_type": "stream",
     "text": [
      "La edad no puede ser negativa\n"
     ]
    }
   ],
   "source": [
    "persona2 = Persona(\"Ana\", -5)  # Esto lanzará ValueError"
   ]
  },
  {
   "cell_type": "code",
   "execution_count": 6,
   "id": "d3b7e756",
   "metadata": {},
   "outputs": [
    {
     "name": "stdout",
     "output_type": "stream",
     "text": [
      "Esta persona se llama Pedro, tiene 32 años\n"
     ]
    }
   ],
   "source": [
    "persona3 = Persona(\"Pedro\", 32)  # Este es un ejemplo de una instancia correcta\n",
    "print(persona3.mostrar())"
   ]
  },
  {
   "cell_type": "markdown",
   "id": "ea1ce27b",
   "metadata": {},
   "source": [
    "# Tercer Punto\n",
    "Agrega a la clase Persona un método llamado cumplir_anios() que incremente en 1 el atributo _edad de la persona. Modifica también el método mostrar() para que, después de mostrar la información inicial, imprima un mensaje adicional indicando que la persona ha cumplido años.\n",
    "\n",
    "Ejemplo de salida:\n",
    "\n",
    "Esta persona se llama Juan, tiene 30 años\n",
    "¡Feliz cumpleaños! Ahora Juan tiene 31 años.\n",
    "Crea dos instancias de la clase Persona, muestra sus datos iniciales, luego llama al método cumplir_anios() para ambas y vuelve a mostrar sus datos."
   ]
  },
  {
   "cell_type": "code",
   "execution_count": 7,
   "id": "dd349fd2",
   "metadata": {},
   "outputs": [],
   "source": [
    "class Persona:\n",
    "    def __init__(self, nombre, edad):\n",
    "        try:\n",
    "          if type(edad) is not int:\n",
    "            raise TypeError(\"La edad debe ser un número entero\")\n",
    "          if edad < 0:\n",
    "            raise ValueError(\"La edad no puede ser negativa\")\n",
    "        except TypeError as e:\n",
    "            print(e)\n",
    "        except ValueError as e:\n",
    "            print(e)\n",
    "        else:\n",
    "          self.__nombre = nombre\n",
    "          self.__edad = edad\n",
    "\n",
    "    def mostrar(self):\n",
    "        return f\"Esta persona se llama {self.__nombre}, tiene {self.__edad} años\"\n",
    "\n",
    "    def mostrar_cumple(self):\n",
    "        return f\"Feliz Cumple {self.__nombre}!!!,ya  tienes {self.__edad} años\"\n",
    "\n",
    "    def cumplir_anios(self):\n",
    "        self.__edad += 1\n",
    "        print(self.mostrar_cumple())"
   ]
  },
  {
   "cell_type": "code",
   "execution_count": 8,
   "id": "22855414",
   "metadata": {},
   "outputs": [
    {
     "name": "stdout",
     "output_type": "stream",
     "text": [
      "Esta persona se llama Juan, tiene 30 años\n",
      "Feliz Cumple Juan!!!,ya  tienes 31 años\n"
     ]
    }
   ],
   "source": [
    "persona1 = Persona(\"Juan\", 30)\n",
    "print(persona1.mostrar())\n",
    "persona1.cumplir_anios()"
   ]
  },
  {
   "cell_type": "markdown",
   "id": "8be7cafd",
   "metadata": {},
   "source": [
    "# Cuarto Punto\n",
    "\n",
    "Crea una función fuera de la clase Persona llamada comparar_edades(persona1, persona2) que reciba dos objetos Persona como argumentos y determine cuál de las dos personas es mayor. La función debe imprimir un mensaje indicando cuál persona es mayor o si tienen la misma edad.\n",
    "\n",
    "Ejemplo de salidas:\n",
    "\n",
    "Juan es mayor que Maria.\n",
    "Maria es mayor que Pedro.\n",
    "Ana y Luis tienen la misma edad.\n",
    "Crea al menos tres instancias de Persona para probar la función comparar_edades()."
   ]
  },
  {
   "cell_type": "code",
   "execution_count": 9,
   "id": "cae94bc6",
   "metadata": {},
   "outputs": [],
   "source": [
    "def comparar_edades(persona1, persona2):\n",
    "    if persona1._Persona__edad > persona2._Persona__edad:\n",
    "        print(f\"{persona1._Persona__nombre} es mayor que {persona2._Persona__nombre}.\")\n",
    "    elif persona1._Persona__edad < persona2._Persona__edad:\n",
    "        print(f\"{persona2._Persona__nombre} es mayor que {persona1._Persona__nombre}.\")\n",
    "    else:\n",
    "        print(f\"{persona1._Persona__nombre} y {persona2._Persona__nombre} tienen la misma edad.\")"
   ]
  },
  {
   "cell_type": "code",
   "execution_count": 10,
   "id": "382ca6b7",
   "metadata": {},
   "outputs": [
    {
     "name": "stdout",
     "output_type": "stream",
     "text": [
      "Juan es mayor que Ana.\n",
      "Ana es mayor que Pedro.\n",
      "Ana y Luis tienen la misma edad.\n"
     ]
    }
   ],
   "source": [
    "persona1 = Persona(\"Juan\", 30)\n",
    "persona2 = Persona(\"Ana\", 25)\n",
    "persona3 = Persona(\"Pedro\", 20)\n",
    "persona4 = Persona(\"Luis\", 25)\n",
    "comparar_edades(persona1, persona2)\n",
    "comparar_edades(persona2, persona3)\n",
    "comparar_edades(persona2, persona4)"
   ]
  },
  {
   "cell_type": "markdown",
   "id": "760d209d",
   "metadata": {},
   "source": [
    "# Quinto Punto\n",
    "\n",
    "Crea una lista llamada lista_de_personas y agrega al menos cinco instancias de la clase Persona a la lista. Luego, crea una función llamada mostrar_lista(lista_de_personas)que reciba la lista como argumento e itere sobre ella, llamando al método mostrar() de cada persona para mostrar sus datos.\n"
   ]
  },
  {
   "cell_type": "code",
   "execution_count": null,
   "id": "94240de4",
   "metadata": {},
   "outputs": [],
   "source": [
    "class Persona:\n",
    "    def __init__(self, nombre, edad):\n",
    "        try:\n",
    "          if type(edad) is not int:\n",
    "            raise TypeError(\"La edad debe ser un número entero\")\n",
    "          if edad < 0:\n",
    "            raise ValueError(\"La edad no puede ser negativa\")\n",
    "        except TypeError as e:\n",
    "            print(e)\n",
    "        except ValueError as e:\n",
    "            print(e)\n",
    "        else:\n",
    "          self.__nombre = nombre\n",
    "          self.__edad = edad\n",
    "\n",
    "    def mostrar(self):\n",
    "        return f\"Esta persona se llama {self.__nombre}, tiene {self.__edad} años\"\n",
    "\n",
    "lista_de_personas = [\n",
    "    Persona(\"Juan\", 30),\n",
    "    Persona(\"Ana\", 25),\n",
    "    Persona(\"Pedro\", 20),\n",
    "    Persona(\"Luis\", 25),\n",
    "    Persona(\"Carlos\", 28)]\n",
    "\n",
    "def mostrar_lista(lista_de_personas):\n",
    "    for persona in lista_de_personas:\n",
    "        print(persona.mostrar())\n",
    "\n",
    "mostrar_lista(lista_de_personas)"
   ]
  }
 ],
 "metadata": {
  "kernelspec": {
   "display_name": "Python 3",
   "language": "python",
   "name": "python3"
  },
  "language_info": {
   "codemirror_mode": {
    "name": "ipython",
    "version": 3
   },
   "file_extension": ".py",
   "mimetype": "text/x-python",
   "name": "python",
   "nbconvert_exporter": "python",
   "pygments_lexer": "ipython3",
   "version": "3.11.2"
  }
 },
 "nbformat": 4,
 "nbformat_minor": 5
}
